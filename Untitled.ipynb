{
 "cells": [
  {
   "cell_type": "code",
   "execution_count": 3,
   "metadata": {},
   "outputs": [],
   "source": [
    "from student_utils import *\n",
    "import utils\n",
    "import numpy as np"
   ]
  },
  {
   "cell_type": "code",
   "execution_count": 70,
   "metadata": {},
   "outputs": [
    {
     "name": "stdout",
     "output_type": "stream",
     "text": [
      "[[0. 1. 2. 1. 2. 2. 1.]\n",
      " [1. 0. 2. 1. 2. 2. 2.]\n",
      " [2. 2. 0. 1. 2. 2. 2.]\n",
      " [1. 1. 1. 0. 1. 1. 1.]\n",
      " [2. 2. 2. 1. 0. 2. 2.]\n",
      " [2. 2. 2. 1. 2. 0. 2.]\n",
      " [1. 2. 2. 1. 2. 2. 0.]]\n"
     ]
    }
   ],
   "source": [
    "input_data = utils.read_file(\"50.in\")\n",
    "num_of_locations, num_houses, list_locations, list_houses, starting_car_location, adjacency_matrix = data_parser(input_data)\n",
    "adjacency_matrix = np.array(adjacency_matrix)\n",
    "adjacency_matrix[adjacency_matrix=='x'] = -1\n",
    "adjacency_matrix = adjacency_matrix.astype(np.float) # No edge = -1\n",
    "result = np.zeros(A.shape)\n",
    "for i in range(num_of_locations):\n",
    "    dist = result[i]\n",
    "    dist = revisedDjikstra(A, i, dist, num_of_locations)\n",
    "    for j in range(num_of_locations):\n",
    "        result[i, j] = dist[j]\n",
    "        result[j, i] = dist[j]\n",
    "print(result)"
   ]
  },
  {
   "cell_type": "code",
   "execution_count": 69,
   "metadata": {},
   "outputs": [
    {
     "data": {
      "text/plain": [
       "array([0., 1., 2., 1., 2., 2., 1.])"
      ]
     },
     "execution_count": 69,
     "metadata": {},
     "output_type": "execute_result"
    }
   ],
   "source": [
    "def revisedDjikstra(adjacency_matrix, source, dist, num_of_locations):\n",
    "    unVisited = set()\n",
    "    for i in range(num_of_locations):\n",
    "        if (dist[i] == 0 and i != source):\n",
    "            dist[i] = 1000\n",
    "        unVisited.add(i)\n",
    "    while (len(unVisited) != 0):\n",
    "        current = getArgminDist(dist, unVisited)\n",
    "        unVisited.remove(current)\n",
    "        toVisit = getAdjacentUnvisited(current, adjacency_matrix, unVisited)\n",
    "        for vertex in toVisit:\n",
    "            cost = dist[current] + adjacency_matrix[current, vertex]\n",
    "            if (cost < dist[vertex]):\n",
    "                dist[vertex] = cost\n",
    "    return dist"
   ]
  },
  {
   "cell_type": "code",
   "execution_count": 66,
   "metadata": {},
   "outputs": [],
   "source": [
    "def getAdjacentUnvisited(current, adjacency_matrix, unVisited):\n",
    "    return [i for i in unVisited if adjacency_matrix[current, i] > 0]"
   ]
  },
  {
   "cell_type": "code",
   "execution_count": 54,
   "metadata": {},
   "outputs": [],
   "source": [
    "def getArgminDist(dist, unVisited):\n",
    "    minValue = 1000\n",
    "    minIndex = 0\n",
    "    for s in unVisited:\n",
    "        minIndex = s\n",
    "        break;\n",
    "    for vertex in unVisited:\n",
    "        if (dist[vertex] < minValue):\n",
    "            minValue = dist[vertex]\n",
    "            minIndex = vertex\n",
    "    return minIndex"
   ]
  },
  {
   "cell_type": "code",
   "execution_count": null,
   "metadata": {},
   "outputs": [],
   "source": []
  },
  {
   "cell_type": "code",
   "execution_count": null,
   "metadata": {},
   "outputs": [],
   "source": []
  }
 ],
 "metadata": {
  "kernelspec": {
   "display_name": "Python 3",
   "language": "python",
   "name": "python3"
  },
  "language_info": {
   "codemirror_mode": {
    "name": "ipython",
    "version": 3
   },
   "file_extension": ".py",
   "mimetype": "text/x-python",
   "name": "python",
   "nbconvert_exporter": "python",
   "pygments_lexer": "ipython3",
   "version": "3.7.1"
  }
 },
 "nbformat": 4,
 "nbformat_minor": 2
}
