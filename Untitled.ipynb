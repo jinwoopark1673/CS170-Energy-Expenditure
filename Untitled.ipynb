{
 "cells": [
  {
   "cell_type": "code",
   "execution_count": 1,
   "metadata": {},
   "outputs": [],
   "source": [
    "from student_utils import *\n",
    "from shortest_path_algorithm import *\n",
    "from approximate_TSP import *\n",
    "from solver import *\n",
    "import utils\n",
    "\n",
    "import random"
   ]
  },
  {
   "cell_type": "code",
   "execution_count": 36,
   "metadata": {},
   "outputs": [
    {
     "name": "stdout",
     "output_type": "stream",
     "text": [
      "List of homes: [9, 0, 8, 58, 40, 7, 57, 76, 55, 42, 74, 94, 49, 38, 66, 75, 80, 27, 53, 20, 77, 2, 30, 87, 68, 78, 61, 31, 24, 10, 19, 12, 43, 69, 60, 28, 22, 47, 62, 36, 25, 13, 34, 90, 23, 39, 11, 89, 67, 41]\n",
      "Start location: 84\n",
      "Random generation: ([84, 79, 54, 70, 67, 74, 49, 47, 57, 62, 48, 93, 33, 72, 69, 55, 29, 66, 30, 86, 73, 27, 71, 75, 5, 15, 9, 11, 99, 53, 97, 19, 41, 25, 78, 18, 87, 21, 16, 3, 61, 76, 31, 60, 95, 44, 45, 40, 59, 34, 84], 128.99405)\n",
      "Final result: ([84, 58, 87, 78, 25, 41, 28, 20, 70, 43, 23, 67, 88, 74, 68, 39, 60, 83, 27, 13, 80, 22, 57, 66, 7, 11, 92, 76, 19, 97, 55, 69, 75, 10, 2, 84], 82.66585999999998)\n",
      "75.60056\n"
     ]
    }
   ],
   "source": [
    "input_data = utils.read_file(\"fully_connected_100.in\")\n",
    "num_of_locations, num_houses, list_locations, list_houses, starting_car_location, adjacency_matrix = data_parser(input_data)\n",
    "shortestPath = getShortestDistanceMatrix(adjacency_matrix, num_of_locations)\n",
    "adjacency_matrix = np.array(adjacency_matrix)\n",
    "adjacency_matrix[adjacency_matrix=='x'] = -1\n",
    "adjacency_matrix = adjacency_matrix.astype(np.float)\n",
    "homes, start = getIndices(list_locations, list_houses, starting_car_location)\n",
    "print(\"List of homes: \" + str(homes))\n",
    "print(\"Start location: \" + str(start))\n",
    "\n",
    "initDropOff = set(random.sample(range(0, num_of_locations), num_houses))\n",
    "print(\"Random generation: \" + str(getTSP(shortestPath, initDropOff, start, homes)))\n",
    "k=runDescent1(homes, start, shortestPath, initDropOff)\n",
    "print(\"Final result: \" + str(getTSP(shortestPath, k, start, homes)))\n",
    "l=[85 ,59, 88, 79, 26, 42, 29, 21, 71, 44, 24, 68, 89, 86, 58, 23, 48, 95, 14, 36, 67, 31, 69, 40, 56, 70, 76, 11, 3 ,85]\n",
    "d = [29, 56, 23, 24, 3, 26, 29, 31, 58, 36, 59, 43, 44, 48, 14, 76, 67, 79, 68, 85, 86, 88, 69, 89, 70, 95, 21, 71, 11, 40]\n",
    "l1 = []\n",
    "d1 = []\n",
    "for i in l:\n",
    "    l1 += [i - 1]\n",
    "for k in d:\n",
    "    d1 += [k - 1]\n",
    "print(computeCost(shortestPath, l1, homes, d1))"
   ]
  },
  {
   "cell_type": "code",
   "execution_count": 30,
   "metadata": {},
   "outputs": [],
   "source": []
  },
  {
   "cell_type": "code",
   "execution_count": 31,
   "metadata": {},
   "outputs": [],
   "source": [
    "def getShortestPathBetween(adjacency_matrix, v1, v2):\n",
    "    unVisited = set()\n",
    "    dist = [0] * len(adjacency_matrix)\n",
    "    previous = [-1] * len(adjacency_matrix)\n",
    "    for i in range(len(adjacency_matrix)):\n",
    "        if (i != v1):\n",
    "            dist[i] = 3 * 10 ** 11\n",
    "        unVisited.add(i)\n",
    "    while (len(unVisited) != 0):\n",
    "        current = getArgminDist(dist, unVisited)\n",
    "        unVisited.remove(current)\n",
    "        toVisit = getAdjacentUnvisited(current, adjacency_matrix, unVisited)\n",
    "        for vertex in toVisit:\n",
    "            cost = dist[current] + adjacency_matrix[current][vertex]\n",
    "            if (cost < dist[vertex]):\n",
    "                dist[vertex] = cost\n",
    "                previous[vertex] = current\n",
    "    found = v2\n",
    "    result = [v2]\n",
    "    while (found != v1):\n",
    "        result += [previous[found]]\n",
    "        found = previous[found]\n",
    "    return result[::-1]"
   ]
  },
  {
   "cell_type": "code",
   "execution_count": 32,
   "metadata": {},
   "outputs": [
    {
     "name": "stdout",
     "output_type": "stream",
     "text": [
      "[[-1.  1. -1.  1. -1. -1.  1.]\n",
      " [ 1. -1. -1.  1. -1. -1. -1.]\n",
      " [-1. -1. -1.  1. -1. -1. -1.]\n",
      " [ 1.  1.  1. -1.  1.  1.  1.]\n",
      " [-1. -1. -1.  1. -1. -1. -1.]\n",
      " [-1. -1. -1.  1. -1. -1. -1.]\n",
      " [ 1. -1. -1.  1. -1. -1. -1.]]\n"
     ]
    },
    {
     "data": {
      "text/plain": [
       "[2, 3, 6]"
      ]
     },
     "execution_count": 32,
     "metadata": {},
     "output_type": "execute_result"
    }
   ],
   "source": [
    "print(np.array(adjacency_matrix))\n",
    "getShortestPathBetween(adjacency_matrix, 2, 6)"
   ]
  },
  {
   "cell_type": "code",
   "execution_count": null,
   "metadata": {},
   "outputs": [],
   "source": []
  }
 ],
 "metadata": {
  "kernelspec": {
   "display_name": "Python 3",
   "language": "python",
   "name": "python3"
  },
  "language_info": {
   "codemirror_mode": {
    "name": "ipython",
    "version": 3
   },
   "file_extension": ".py",
   "mimetype": "text/x-python",
   "name": "python",
   "nbconvert_exporter": "python",
   "pygments_lexer": "ipython3",
   "version": "3.7.1"
  }
 },
 "nbformat": 4,
 "nbformat_minor": 2
}
